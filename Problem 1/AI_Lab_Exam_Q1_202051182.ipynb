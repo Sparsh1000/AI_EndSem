{
  "nbformat": 4,
  "nbformat_minor": 0,
  "metadata": {
    "colab": {
      "provenance": []
    },
    "kernelspec": {
      "name": "python3",
      "display_name": "Python 3"
    },
    "language_info": {
      "name": "python"
    }
  },
  "cells": [
    {
      "cell_type": "code",
      "execution_count": null,
      "metadata": {
        "colab": {
          "base_uri": "https://localhost:8080/"
        },
        "id": "NeZk-e0dvnqV",
        "outputId": "c7473a78-3e69-431c-ba35-cdde4215901a"
      },
      "outputs": [
        {
          "output_type": "stream",
          "name": "stdout",
          "text": [
            "Total Iterations:  91514\n",
            "VALUE FUNCTION:\n",
            "{0: 2873.483855543258, 1: 4128.447763009358, 2: 6261.121317998235, 3: 11272.523254348145, 4: 19009.80045758296, 5: 43343.02024478681, 6: 67768.20764556511, 7: 175332.24426328827, 8: 180735.4933211808, 9: 183947.96784721082}\n",
            "TIMES ENTERED:\n",
            "{0: 100.0, 1: 99.02310029066591, 2: 89.14264484122648, 3: 71.5518936993247, 4: 49.930065345193086, 5: 29.965906855781625, 6: 14.913565137574578, 7: 5.876696461743559, 8: 1.8150228380357105, 9: 0.35732237690408025}\n",
            "EXPECTED REWARD:  67436.44600151619\n"
          ]
        }
      ],
      "source": [
        "import numpy as np\n",
        "import matplotlib.pyplot as plt\n",
        "\n",
        "class NODE:\n",
        "    def __init__(self, reward, correctProbability):\n",
        "        self.REWARD = reward\n",
        "        self.PROBABILITY = correctProbability\n",
        "        self.next = None\n",
        "\n",
        "class AGENT:\n",
        "    def __init__(self):\n",
        "        self.N = 10\n",
        "        self.THETA = 0.0001\n",
        "        self.DISCOUNT_FACTOR = 0.7\n",
        "        self.ACTIONS = [\"CONTINUE\", \"QUIT\"]\n",
        "        \n",
        "        REWARDS = [100, 500, 1000, 5000, 10000, 50000, 100000, 500000, 1000000, 5000000]\n",
        "        CORRECT_ANSWER_PROBABILITY = [0.99, 0.9, 0.8, 0.7, 0.6, 0.5, 0.4, 0.3, 0.2, 0.1]\n",
        "        \n",
        "        START_NODE = NODE(-1,0)\n",
        "        TEMP = START_NODE\n",
        "        \n",
        "        for i in range(self.N):  \n",
        "            TEMP.next = NODE(REWARDS[i],CORRECT_ANSWER_PROBABILITY[i])\n",
        "            TEMP = TEMP.next\n",
        "        \n",
        "        self.START_STATE = START_NODE.next        \n",
        "\n",
        "\n",
        "class MDP_SOLUTION:\n",
        "    def __init__(self):\n",
        "        self.agent = AGENT()\n",
        "        self.VALUE_FUNCTION = {s: 0 for s in range(self.agent.N)}\n",
        "        self.ITERATIONS = 0\n",
        "        self.TIMES_ENTERED = {s: 0 for s in range(self.agent.N)}\n",
        "        self.TERMINATOR = False\n",
        "        self.PLOT_STATES = [x for x in range(self.agent.N)]\n",
        "    \n",
        "    def helper(self, state, iteration):\n",
        "        if(state == None): return 0\n",
        "        self.TIMES_ENTERED[iteration] += 1\n",
        "    \n",
        "        OLD_VALUE = self.VALUE_FUNCTION[iteration]\n",
        "        REWARD_ACHIEVED = 0\n",
        "        if iteration == 0:\n",
        "            QUIT_REWARD = 0\n",
        "        else:\n",
        "            QUIT_REWARD = self.VALUE_FUNCTION[iteration-1]\n",
        "        \n",
        "        ANSWER = np.random.rand()\n",
        "        \n",
        "        if ANSWER <= state.PROBABILITY:\n",
        "            REWARD_ACHIEVED = state.PROBABILITY * (state.REWARD + (self.agent.DISCOUNT_FACTOR * self.helper(state.next, iteration+1)))\n",
        "            self.VALUE_FUNCTION[iteration] = (self.VALUE_FUNCTION[iteration] * self.TIMES_ENTERED[iteration] + REWARD_ACHIEVED)/(self.TIMES_ENTERED[iteration]+1)\n",
        "            \n",
        "            if(abs(self.VALUE_FUNCTION[iteration] - OLD_VALUE) < self.agent.THETA):\n",
        "                self.TERMINATOR = True\n",
        "\n",
        "        return max(QUIT_REWARD, REWARD_ACHIEVED)\n",
        "    \n",
        "    def solver(self):\n",
        "        while self.TERMINATOR == False:\n",
        "            self.ITERATIONS += 1\n",
        "            HEAD = self.agent.START_STATE\n",
        "            self.helper(HEAD, 0)\n",
        "        \n",
        "        print(\"Total Iterations: \", self.ITERATIONS)\n",
        "        print(\"VALUE FUNCTION:\")\n",
        "        print(self.VALUE_FUNCTION)\n",
        "        \n",
        "        for i in range(self.agent.N):\n",
        "            self.TIMES_ENTERED[i] = (self.TIMES_ENTERED[i] / self.ITERATIONS) * 100\n",
        "        \n",
        "        print(\"TIMES ENTERED:\")\n",
        "        print(self.TIMES_ENTERED)\n",
        "        \n",
        "        EXPECTATION = 0\n",
        "        for i in range(self.agent.N):\n",
        "            EXPECTATION = EXPECTATION + ((self.TIMES_ENTERED[i]/100) * self.VALUE_FUNCTION[i])\n",
        "        \n",
        "        print(\"EXPECTED REWARD: \", EXPECTATION)\n",
        "        \n",
        "\n",
        "MDP_SOLUTION().solver()"
      ]
    }
  ]
}